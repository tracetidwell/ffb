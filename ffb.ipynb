{
 "cells": [
  {
   "cell_type": "code",
   "execution_count": 151,
   "metadata": {
    "collapsed": true
   },
   "outputs": [],
   "source": [
    "from rauth import OAuth2Service\n",
    "import matplotlib as plt\n",
    "import matplotlib.style as style\n",
    "import json\n",
    "import webbrowser\n",
    "import pandas as pd\n",
    "import numpy as np\n",
    "% matplotlib inline"
   ]
  },
  {
   "cell_type": "code",
   "execution_count": 152,
   "metadata": {},
   "outputs": [],
   "source": [
    "#read in consumer_key and consumer_secret from json file\n",
    "credentials_file = open('oauth.json')\n",
    "credentials = json.load(credentials_file)\n",
    "credentials_file.close()\n",
    "cid = credentials['consumer_key']\n",
    "cs = credentials['consumer_secret']"
   ]
  },
  {
   "cell_type": "code",
   "execution_count": 153,
   "metadata": {},
   "outputs": [],
   "source": [
    "#create yahoo object using authorization credentials\n",
    "yahoo = OAuth2Service(client_id=cid,\n",
    "                      client_secret=cs,\n",
    "                      name='yahoo',\n",
    "                      authorize_url='https://api.login.yahoo.com/oauth2/request_auth',\n",
    "                      access_token_url='https://api.login.yahoo.com/oauth2/get_token',\n",
    "                      base_url=\"http://fantasysports.yahooapis.com/\")"
   ]
  },
  {
   "cell_type": "code",
   "execution_count": 154,
   "metadata": {
    "collapsed": true
   },
   "outputs": [],
   "source": [
    "#necessary data to make url requests\n",
    "payload = {'grant_type': 'authorization_code',\n",
    "           'redirect_uri': 'oob',\n",
    "           'response_type': 'code'}"
   ]
  },
  {
   "cell_type": "code",
   "execution_count": 155,
   "metadata": {
    "collapsed": true
   },
   "outputs": [],
   "source": [
    "#create authorization url\n",
    "url = yahoo.get_authorize_url(**payload)"
   ]
  },
  {
   "cell_type": "code",
   "execution_count": 156,
   "metadata": {},
   "outputs": [
    {
     "name": "stdout",
     "output_type": "stream",
     "text": [
      "Enter code: efq99jq\n"
     ]
    }
   ],
   "source": [
    "#open web browser to read authorization key from yahoo\n",
    "webbrowser.open(url)\n",
    "verify = input('Enter code: ')"
   ]
  },
  {
   "cell_type": "code",
   "execution_count": 157,
   "metadata": {
    "collapsed": true
   },
   "outputs": [],
   "source": [
    "#get raw access token and convert to json\n",
    "r = yahoo.get_raw_access_token('POST', data={'code': verify, 'redirect_uri': 'oob', 'grant_type': 'authorization_code'})\n",
    "at = r.json()['access_token']"
   ]
  },
  {
   "cell_type": "code",
   "execution_count": 158,
   "metadata": {
    "collapsed": true
   },
   "outputs": [],
   "source": [
    "#open a session accessing the yahoo sports api\n",
    "session = yahoo.get_session(at)"
   ]
  },
  {
   "cell_type": "code",
   "execution_count": 162,
   "metadata": {
    "collapsed": true
   },
   "outputs": [],
   "source": [
    "'''\n",
    "get players based on position\n",
    "params: position - position played (QB, WR, RB, TE, W/R/T, K, DEF, D)\n",
    "        count - number of players to return\n",
    "        start - where to start (based on players sorted by points with 0 index)\n",
    "returns: a dictionary with players names, keys, and total points\n",
    "'''\n",
    "\n",
    "def get_players(position, count, start):\n",
    "    data = session.get('https://fantasysports.yahooapis.com/fantasy/v2/league/nfl.l.694463/' +\n",
    "                      'players;position={};sort=PTS;count={};start={}/stats'.format(position, count, start),\n",
    "                      params={'format': 'json'})\n",
    "    \n",
    "    players = {}\n",
    "    for i in range(0, 12):\n",
    "        players[str(i)] = {}\n",
    "        \n",
    "    for key in data.json()['fantasy_content']['league'][1]['players'].keys():\n",
    "        if key != 'count':\n",
    "            name = data.json()['fantasy_content']['league'][1]['players'][key]['player'][0][2]['name']['full']\n",
    "            player_key = data.json()['fantasy_content']['league'][1]['players'][key]['player'][0][0]['player_key']\n",
    "            points = data.json()['fantasy_content']['league'][1]['players'][key]['player'][1]['player_points']['total']\n",
    "            players[key] = {'player_key': player_key, 'name': name, 'points': points}\n",
    "            \n",
    "    return players"
   ]
  },
  {
   "cell_type": "code",
   "execution_count": 163,
   "metadata": {
    "collapsed": true,
    "scrolled": false
   },
   "outputs": [],
   "source": [
    "def get_team(team_number):\n",
    "    data = session.get('https://fantasysports.yahooapis.com/fantasy/v2/team/nfl.l.694463.t.{}/roster'.format(team_number), \n",
    "                       params={'format': 'json'})\n",
    "    team = {}\n",
    "    for key in data.json()['fantasy_content']['team'][1]['roster']['0']['players'].keys():\n",
    "        if key != 'count':\n",
    "            team[data.json()['fantasy_content']['team'][1]['roster']['0']['players'][key]['player'][0][0]['player_key']] = key\n",
    "            \n",
    "    return team"
   ]
  },
  {
   "cell_type": "code",
   "execution_count": 164,
   "metadata": {
    "collapsed": true
   },
   "outputs": [],
   "source": [
    "def get_all_teams():\n",
    "    teams = {}\n",
    "    for i in range(1, 13):\n",
    "        teams[i] = get_team(i)\n",
    "    return teams"
   ]
  },
  {
   "cell_type": "code",
   "execution_count": 214,
   "metadata": {
    "collapsed": true
   },
   "outputs": [],
   "source": [
    "def position_ranks(position, rank, teams):\n",
    "    \n",
    "    def team_id_2_name():\n",
    "        id_2_name = {}\n",
    "        league = session.get('https://fantasysports.yahooapis.com/fantasy/v2/league/nfl.l.694463/standings', params={'format': 'json'})\n",
    "        for i in range(12):\n",
    "            team_id = league.json()['fantasy_content']['league'][1]['standings'][0]['teams'][str(i)]['team'][0][1]['team_id']\n",
    "            nickname = league.json()['fantasy_content']['league'][1]['standings'][0]['teams'][str(i)]['team'][0][19]['managers'][0]['manager']['nickname']\n",
    "            id_2_name[team_id] = nickname\n",
    "\n",
    "        return id_2_name\n",
    "\n",
    "    id_2_name = team_id_2_name()\n",
    "    count = 12\n",
    "    start = (rank - 1) * 12\n",
    "    players = get_players(position, count, start)\n",
    "    \n",
    "    position_ranks = {}\n",
    "    for i in range(1, 13):\n",
    "        position_ranks[id_2_name[str(i)]] = {}\n",
    "        \n",
    "    for i in range(1, 13):\n",
    "        for key in players.keys():\n",
    "            if players[key]['player_key'] in teams[i].keys():\n",
    "                pos = len(position_ranks[id_2_name[str(i)]].keys())\n",
    "                position_ranks[id_2_name[str(i)]][pos+1] = {'name': players[key]['name'], 'points': players[key]['points']}\n",
    "                \n",
    "    return position_ranks, players"
   ]
  },
  {
   "cell_type": "code",
   "execution_count": 180,
   "metadata": {},
   "outputs": [],
   "source": [
    "def weekly_points(players, start, end):\n",
    "    index = ['Week {}'.format(i) for i in range(start, end+1)]\n",
    "    columns = [players[key]['name'] for key in players]\n",
    "    weekly_points = pd.DataFrame(columns=columns, index=index)\n",
    "    \n",
    "    for key in rb2:\n",
    "        pts = []\n",
    "        player_key = players[key]['player_key']\n",
    "        name = players[key]['name']\n",
    "        for i in range(1, 6):\n",
    "            player = session.get('https://fantasysports.yahooapis.com/fantasy/v2/league/nfl.l.694463/' + \n",
    "                             'players;player_keys={}/stats;type=week;week={}'.format(player_key, i), \n",
    "                             params={'format': 'json'})\n",
    "            pts.append(float(player.json()['fantasy_content']['league'][1]['players']['0']['player'][1]['player_points']['total']))\n",
    "        weekly_points[name] = pts\n",
    "        \n",
    "    return weekly_points"
   ]
  },
  {
   "cell_type": "code",
   "execution_count": 169,
   "metadata": {},
   "outputs": [],
   "source": [
    "def plot_weekly_points(week_points):\n",
    "    style.use('seaborn-muted')\n",
    "    fte_graph = week_points.plot(figsize=(12, 8), colormap='Paired')\n",
    "    fte_graph.tick_params(axis = 'both', which = 'major', labelsize=18)\n",
    "    fte_graph.legend(loc='center left', bbox_to_anchor=(1, 0.5))"
   ]
  },
  {
   "cell_type": "code",
   "execution_count": 207,
   "metadata": {},
   "outputs": [],
   "source": [
    "def trade_table(teams):\n",
    "    owners_rank = {'QB1': {}, 'WR1': {}, 'WR2': {}, 'RB1': {}, 'RB2': {}}\n",
    "    players_rank = {'QB1': {}, 'WR1': {}, 'WR2': {}, 'RB1': {}, 'RB2': {}}\n",
    "    \n",
    "    for key in owners_rank:\n",
    "        position = key[0:2]\n",
    "        rank = int(key[-1])\n",
    "        owners_rank[key], players_rank[key] = position_ranks(position, rank, teams)\n",
    "        \n",
    "    cols = ['QB1', 'WR1', 'WR2', 'RB1', 'RB2']\n",
    "    index = owners_rank['QB1'].keys()\n",
    "    pr_df = pd.DataFrame(columns=cols, index=index)\n",
    "    for position in owners_rank:\n",
    "        for owner in owners_rank[position]:\n",
    "            pr_df[position][owner] = len(owners_rank[position][owner])\n",
    "        \n",
    "    return pr_df"
   ]
  },
  {
   "cell_type": "code",
   "execution_count": 215,
   "metadata": {
    "collapsed": true
   },
   "outputs": [],
   "source": [
    "teams = get_all_teams()"
   ]
  },
  {
   "cell_type": "code",
   "execution_count": 216,
   "metadata": {},
   "outputs": [],
   "source": [
    "tt = trade_table(teams)"
   ]
  },
  {
   "cell_type": "code",
   "execution_count": 217,
   "metadata": {},
   "outputs": [
    {
     "data": {
      "text/html": [
       "<div>\n",
       "<table border=\"1\" class=\"dataframe\">\n",
       "  <thead>\n",
       "    <tr style=\"text-align: right;\">\n",
       "      <th></th>\n",
       "      <th>QB1</th>\n",
       "      <th>WR1</th>\n",
       "      <th>WR2</th>\n",
       "      <th>RB1</th>\n",
       "      <th>RB2</th>\n",
       "    </tr>\n",
       "  </thead>\n",
       "  <tbody>\n",
       "    <tr>\n",
       "      <th>Jacob</th>\n",
       "      <td>1</td>\n",
       "      <td>0</td>\n",
       "      <td>0</td>\n",
       "      <td>1</td>\n",
       "      <td>2</td>\n",
       "    </tr>\n",
       "    <tr>\n",
       "      <th>Tommy G</th>\n",
       "      <td>1</td>\n",
       "      <td>1</td>\n",
       "      <td>3</td>\n",
       "      <td>2</td>\n",
       "      <td>0</td>\n",
       "    </tr>\n",
       "    <tr>\n",
       "      <th>Mean Dean</th>\n",
       "      <td>0</td>\n",
       "      <td>2</td>\n",
       "      <td>1</td>\n",
       "      <td>0</td>\n",
       "      <td>1</td>\n",
       "    </tr>\n",
       "    <tr>\n",
       "      <th>Brent</th>\n",
       "      <td>1</td>\n",
       "      <td>1</td>\n",
       "      <td>0</td>\n",
       "      <td>0</td>\n",
       "      <td>0</td>\n",
       "    </tr>\n",
       "    <tr>\n",
       "      <th>Camp</th>\n",
       "      <td>0</td>\n",
       "      <td>0</td>\n",
       "      <td>0</td>\n",
       "      <td>1</td>\n",
       "      <td>0</td>\n",
       "    </tr>\n",
       "    <tr>\n",
       "      <th>Trace</th>\n",
       "      <td>1</td>\n",
       "      <td>1</td>\n",
       "      <td>2</td>\n",
       "      <td>1</td>\n",
       "      <td>3</td>\n",
       "    </tr>\n",
       "    <tr>\n",
       "      <th>Mittens</th>\n",
       "      <td>1</td>\n",
       "      <td>0</td>\n",
       "      <td>2</td>\n",
       "      <td>0</td>\n",
       "      <td>4</td>\n",
       "    </tr>\n",
       "    <tr>\n",
       "      <th>John</th>\n",
       "      <td>2</td>\n",
       "      <td>1</td>\n",
       "      <td>0</td>\n",
       "      <td>1</td>\n",
       "      <td>0</td>\n",
       "    </tr>\n",
       "    <tr>\n",
       "      <th>Jared</th>\n",
       "      <td>2</td>\n",
       "      <td>2</td>\n",
       "      <td>2</td>\n",
       "      <td>2</td>\n",
       "      <td>0</td>\n",
       "    </tr>\n",
       "    <tr>\n",
       "      <th>Jeff Harrison</th>\n",
       "      <td>1</td>\n",
       "      <td>1</td>\n",
       "      <td>0</td>\n",
       "      <td>2</td>\n",
       "      <td>0</td>\n",
       "    </tr>\n",
       "    <tr>\n",
       "      <th>Chuck J</th>\n",
       "      <td>1</td>\n",
       "      <td>1</td>\n",
       "      <td>0</td>\n",
       "      <td>1</td>\n",
       "      <td>0</td>\n",
       "    </tr>\n",
       "    <tr>\n",
       "      <th>Michael</th>\n",
       "      <td>1</td>\n",
       "      <td>1</td>\n",
       "      <td>0</td>\n",
       "      <td>0</td>\n",
       "      <td>2</td>\n",
       "    </tr>\n",
       "  </tbody>\n",
       "</table>\n",
       "</div>"
      ],
      "text/plain": [
       "              QB1 WR1 WR2 RB1 RB2\n",
       "Jacob           1   0   0   1   2\n",
       "Tommy G         1   1   3   2   0\n",
       "Mean Dean       0   2   1   0   1\n",
       "Brent           1   1   0   0   0\n",
       "Camp            0   0   0   1   0\n",
       "Trace           1   1   2   1   3\n",
       "Mittens         1   0   2   0   4\n",
       "John            2   1   0   1   0\n",
       "Jared           2   2   2   2   0\n",
       "Jeff Harrison   1   1   0   2   0\n",
       "Chuck J         1   1   0   1   0\n",
       "Michael         1   1   0   0   2"
      ]
     },
     "execution_count": 217,
     "metadata": {},
     "output_type": "execute_result"
    }
   ],
   "source": [
    "tt"
   ]
  },
  {
   "cell_type": "code",
   "execution_count": 218,
   "metadata": {
    "collapsed": true
   },
   "outputs": [],
   "source": [
    "tt.to_excel('trade_table.xlsx')"
   ]
  },
  {
   "cell_type": "code",
   "execution_count": null,
   "metadata": {
    "collapsed": true
   },
   "outputs": [],
   "source": []
  }
 ],
 "metadata": {
  "anaconda-cloud": {},
  "kernelspec": {
   "display_name": "Python [conda root]",
   "language": "python",
   "name": "conda-root-py"
  },
  "language_info": {
   "codemirror_mode": {
    "name": "ipython",
    "version": 3
   },
   "file_extension": ".py",
   "mimetype": "text/x-python",
   "name": "python",
   "nbconvert_exporter": "python",
   "pygments_lexer": "ipython3",
   "version": "3.5.2"
  }
 },
 "nbformat": 4,
 "nbformat_minor": 2
}
